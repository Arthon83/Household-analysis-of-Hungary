{
 "cells": [
  {
   "cell_type": "code",
   "execution_count": 10,
   "id": "78320024-5011-4de3-b5cf-c21744342573",
   "metadata": {
    "tags": []
   },
   "outputs": [],
   "source": [
    "# Postprocess of pivot and data files to prepare for Power BI\n",
    "import pandas as pd\n",
    "import numpy as np\n"
   ]
  },
  {
   "cell_type": "code",
   "execution_count": 11,
   "id": "629fa7c2-1329-4729-8fad-5b4dd3016ced",
   "metadata": {
    "tags": []
   },
   "outputs": [],
   "source": [
    "output_name_pivot = 'data_pivotxx.csv'\n",
    "output_name_data = 'res3xx.csv'"
   ]
  },
  {
   "cell_type": "code",
   "execution_count": 40,
   "id": "c899e879-09aa-4159-b672-cf1b3be74d9d",
   "metadata": {
    "tags": []
   },
   "outputs": [],
   "source": [
    "# Set Columns list\n",
    "col_list = ['HT_TYPE_old', 'AGE_CAT_old', 'NEM_old', 'JOG_old', 'HT_TYPE_new']\n",
    "col_list_ext = col_list + ['PID']"
   ]
  },
  {
   "cell_type": "code",
   "execution_count": 41,
   "id": "f9c0768c-b2af-455a-9eef-e13d6d5a3fc6",
   "metadata": {
    "tags": []
   },
   "outputs": [],
   "source": [
    "# Set csv-s\n",
    "csv_files = ['2022_pivot.csv','2023_pivot.csv','2024_pivot.csv']\n",
    "\n",
    "# Read and concat pivot outputs\n",
    "dfs_p = [pd.read_csv(file, dtype = {'KOD_old':'str'}) for file in csv_files]\n",
    "result_pivot = pd.concat(dfs_p, ignore_index = True)\n",
    "\n",
    "result_pivot.set_index('HT_TYPE_old').to_csv(output_name_pivot)"
   ]
  },
  {
   "cell_type": "code",
   "execution_count": null,
   "id": "56e3fb2d-01d1-4400-97f5-e24117aed667",
   "metadata": {
    "tags": []
   },
   "outputs": [],
   "source": [
    "csv_files = ['2022_data.csv','2023_data.csv','2024_data.csv']\n",
    "dfs = [pd.read_csv(file, dtype = {'KOD_old':'str','JOG_old':'str'}) for file in csv_files]\n",
    "\n",
    "result = pd.concat(dfs, ignore_index = True)\n",
    "\n",
    "#float to str\n",
    "result['JOG_old'] = result['JOG_old'].astype(str).str[0]\n",
    "# Drop not useful data\n",
    "result = result[result['HT_TYPE_new'] != 'TOTAL']\n",
    "result.to_csv('result_telep.csv', index = False)\n",
    "\n",
    "result2 = result.pivot(index = col_list, columns = ['YEAR'], values = 'Probability').reset_index()\n",
    "\n",
    "# merge 'PID'\n",
    "result3 = result2.merge(result[result['YEAR'] == 2024][col_list_ext], how = 'left', on = col_list)"
   ]
  },
  {
   "cell_type": "code",
   "execution_count": 43,
   "id": "25980a10-892f-42a1-a5cf-94f578e26cf8",
   "metadata": {
    "tags": []
   },
   "outputs": [],
   "source": [
    "result3['2023-2022'] = (result3[2023] - result3[2022])*100\n",
    "result3['2024-2023'] = (result3[2024] - result3[2023])*100"
   ]
  },
  {
   "cell_type": "code",
   "execution_count": 44,
   "id": "7a993815-1d80-42c3-abda-d8ef165c7484",
   "metadata": {
    "tags": []
   },
   "outputs": [],
   "source": [
    "result3.to_csv('res3xx.csv', index = False)"
   ]
  }
 ],
 "metadata": {
  "kernelspec": {
   "display_name": "Python 3 (ipykernel)",
   "language": "python",
   "name": "python3"
  },
  "language_info": {
   "codemirror_mode": {
    "name": "ipython",
    "version": 3
   },
   "file_extension": ".py",
   "mimetype": "text/x-python",
   "name": "python",
   "nbconvert_exporter": "python",
   "pygments_lexer": "ipython3",
   "version": "3.11.5"
  }
 },
 "nbformat": 4,
 "nbformat_minor": 5
}
