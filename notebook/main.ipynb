{
 "cells": [
  {
   "cell_type": "code",
   "execution_count": 1,
   "id": "5fa344fe-b79d-4072-abe1-049c8f3219f1",
   "metadata": {
    "tags": []
   },
   "outputs": [],
   "source": [
    "import pandas as pd\n",
    "import numpy as np\n",
    "from datetime import datetime\n",
    "import matplotlib.pyplot as plt\n",
    "import logging\n",
    "\n",
    "from moduls import Loader\n",
    "from moduls import Simulation"
   ]
  },
  {
   "cell_type": "code",
   "execution_count": 2,
   "id": "3c459bfa-2519-4d33-8229-9712854d23f6",
   "metadata": {
    "tags": []
   },
   "outputs": [],
   "source": [
    "# List items [previous year, actual year, year[int]]\n",
    "params= [\n",
    "        ['2107_reconst.csv','2207_reconst.csv',2022],\n",
    "        ['2207_reconst.csv','2307_reconst.csv',2023],\n",
    "        ['2307_reconst.csv','2407_reconst.csv',2024],\n",
    "       ]"
   ]
  },
  {
   "cell_type": "code",
   "execution_count": 3,
   "id": "210da70e-a30b-4798-9217-cf25536dbec8",
   "metadata": {
    "tags": []
   },
   "outputs": [],
   "source": [
    "columns = ['PID', 'AGE', 'NEM', 'KSHIR', 'HT_TYPE']"
   ]
  },
  {
   "cell_type": "code",
   "execution_count": 4,
   "id": "284b1791-333a-4a7f-9fbe-9274b299f484",
   "metadata": {
    "tags": []
   },
   "outputs": [
    {
     "name": "stderr",
     "output_type": "stream",
     "text": [
      "2025-01-25 16:10:23,002 - INFO - Loader initialized for file: 2107_reconst.csv\n",
      "2025-01-25 16:10:23,002 - INFO - Loading main dataset.\n",
      "2025-01-25 16:10:35,417 - INFO - Dataset loaded: 2107_reconst.csv\n",
      "2025-01-25 16:10:37,674 - INFO - Adding AGE_CAT column based on AGE.\n",
      "2025-01-25 16:10:37,918 - INFO - AGE_CAT column successfully added.\n",
      "2025-01-25 16:10:39,823 - INFO - Loader initialized for file: 2207_reconst.csv\n",
      "2025-01-25 16:10:39,824 - INFO - Loading main dataset.\n",
      "2025-01-25 16:10:52,535 - INFO - Dataset loaded: 2207_reconst.csv\n",
      "2025-01-25 16:10:54,546 - INFO - Adding AGE_CAT column based on AGE.\n",
      "2025-01-25 16:10:54,777 - INFO - AGE_CAT column successfully added.\n",
      "2025-01-25 16:10:56,520 - INFO - Simulation class initialized.\n",
      "2025-01-25 16:10:56,521 - INFO - Starting data preprocessing...\n",
      "2025-01-25 16:12:37,280 - INFO - Preprocessing completed in 0:01:40.757759.\n",
      "2025-01-25 16:12:37,709 - INFO - Calculating transition matrix.\n",
      "2025-01-25 16:12:50,500 - INFO - Transition matrix calculation completed.\n",
      "2025-01-25 16:12:50,555 - INFO - Loader initialized for file: 2207_reconst.csv\n",
      "2025-01-25 16:12:50,556 - INFO - Loading main dataset.\n",
      "2025-01-25 16:13:06,330 - INFO - Dataset loaded: 2207_reconst.csv\n",
      "2025-01-25 16:13:08,055 - INFO - Adding AGE_CAT column based on AGE.\n",
      "2025-01-25 16:13:08,290 - INFO - AGE_CAT column successfully added.\n",
      "2025-01-25 16:13:10,525 - INFO - Loader initialized for file: 2307_reconst.csv\n",
      "2025-01-25 16:13:10,526 - INFO - Loading main dataset.\n",
      "2025-01-25 16:13:25,212 - INFO - Dataset loaded: 2307_reconst.csv\n",
      "2025-01-25 16:13:26,744 - INFO - Adding AGE_CAT column based on AGE.\n",
      "2025-01-25 16:13:26,964 - INFO - AGE_CAT column successfully added.\n",
      "2025-01-25 16:13:28,501 - INFO - Simulation class initialized.\n",
      "2025-01-25 16:13:32,627 - INFO - Starting data preprocessing...\n",
      "2025-01-25 16:15:20,257 - INFO - Preprocessing completed in 0:01:47.628541.\n",
      "2025-01-25 16:15:23,164 - INFO - Calculating transition matrix.\n",
      "2025-01-25 16:15:36,002 - INFO - Transition matrix calculation completed.\n",
      "2025-01-25 16:15:36,058 - INFO - Loader initialized for file: 2307_reconst.csv\n",
      "2025-01-25 16:15:36,059 - INFO - Loading main dataset.\n",
      "2025-01-25 16:15:49,934 - INFO - Dataset loaded: 2307_reconst.csv\n",
      "2025-01-25 16:15:51,807 - INFO - Adding AGE_CAT column based on AGE.\n",
      "2025-01-25 16:15:52,022 - INFO - AGE_CAT column successfully added.\n",
      "2025-01-25 16:15:53,818 - INFO - Loader initialized for file: 2407_reconst.csv\n",
      "2025-01-25 16:15:53,819 - INFO - Loading main dataset.\n",
      "2025-01-25 16:16:03,775 - INFO - Dataset loaded: 2407_reconst.csv\n",
      "2025-01-25 16:16:05,367 - INFO - Adding AGE_CAT column based on AGE.\n",
      "2025-01-25 16:16:05,596 - INFO - AGE_CAT column successfully added.\n",
      "2025-01-25 16:16:08,013 - INFO - Simulation class initialized.\n",
      "2025-01-25 16:16:09,133 - INFO - Starting data preprocessing...\n",
      "2025-01-25 16:17:23,455 - INFO - Preprocessing completed in 0:01:14.322217.\n",
      "2025-01-25 16:17:25,458 - INFO - Calculating transition matrix.\n",
      "2025-01-25 16:17:37,345 - INFO - Transition matrix calculation completed.\n"
     ]
    }
   ],
   "source": [
    "for data in params:\n",
    "    left = Loader(data[0], columns, log_level = logging.INFO)\n",
    "    left_df = left.load()\n",
    "\n",
    "    right = Loader(data[1], columns)\n",
    "    right_df = right.load()\n",
    "\n",
    "    sim = Simulation(left_df, right_df, _id = 'PID', _dim = ['AGE_CAT','NEM','JOG'], _attr = 'HT_TYPE')\n",
    "    merged_df = sim.preprocess(show_d = True)\n",
    "\n",
    "    pivot_df, trans_prob = sim.get_transition_matrix(merged_df)\n",
    "    trans_prob['YEAR'] = data[2]\n",
    "    \n",
    "    trans_prob.to_csv(f'{data[2]}_data.csv', index = False)\n",
    "    pivot_df.to_csv(f'{data[2]}_pivot.csv', index = False)\n",
    "    "
   ]
  }
 ],
 "metadata": {
  "kernelspec": {
   "display_name": "Python 3 (ipykernel)",
   "language": "python",
   "name": "python3"
  },
  "language_info": {
   "codemirror_mode": {
    "name": "ipython",
    "version": 3
   },
   "file_extension": ".py",
   "mimetype": "text/x-python",
   "name": "python",
   "nbconvert_exporter": "python",
   "pygments_lexer": "ipython3",
   "version": "3.11.5"
  }
 },
 "nbformat": 4,
 "nbformat_minor": 5
}
